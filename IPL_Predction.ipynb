{
 "cells": [
  {
   "cell_type": "markdown",
   "id": "8cfcfedf",
   "metadata": {},
   "source": [
    "# IPL Predction"
   ]
  },
  {
   "cell_type": "code",
   "execution_count": 1,
   "id": "4071ba68",
   "metadata": {},
   "outputs": [],
   "source": [
    "import pandas as pd\n",
    "import numpy as np\n",
    "import seaborn as sns\n",
    "import matplotlib.pyplot as plt"
   ]
  },
  {
   "cell_type": "code",
   "execution_count": 8,
   "id": "a405e21a",
   "metadata": {},
   "outputs": [
    {
     "name": "stdout",
     "output_type": "stream",
     "text": [
      "<bound method NDFrame.head of              ID  innings  overs  ballnumber       batter          bowler  \\\n",
      "0       1312200        1      0           1  YBK Jaiswal  Mohammed Shami   \n",
      "1       1312200        1      0           2  YBK Jaiswal  Mohammed Shami   \n",
      "2       1312200        1      0           3   JC Buttler  Mohammed Shami   \n",
      "3       1312200        1      0           4  YBK Jaiswal  Mohammed Shami   \n",
      "4       1312200        1      0           5  YBK Jaiswal  Mohammed Shami   \n",
      "...         ...      ...    ...         ...          ...             ...   \n",
      "225949   335982        2     14           5      P Kumar        I Sharma   \n",
      "225950   335982        2     14           6     SB Joshi        I Sharma   \n",
      "225951   335982        2     14           7      P Kumar        I Sharma   \n",
      "225952   335982        2     15           1     SB Joshi       LR Shukla   \n",
      "225953   335982        2     15           2     SB Joshi       LR Shukla   \n",
      "\n",
      "        non-striker extra_type  batsman_run  extras_run  total_run  \\\n",
      "0        JC Buttler        NaN            0           0          0   \n",
      "1        JC Buttler    legbyes            0           1          1   \n",
      "2       YBK Jaiswal        NaN            1           0          1   \n",
      "3        JC Buttler        NaN            0           0          0   \n",
      "4        JC Buttler        NaN            0           0          0   \n",
      "...             ...        ...          ...         ...        ...   \n",
      "225949     SB Joshi    legbyes            0           1          1   \n",
      "225950      P Kumar        NaN            1           0          1   \n",
      "225951     SB Joshi        NaN            0           0          0   \n",
      "225952      P Kumar      wides            0           1          1   \n",
      "225953      P Kumar        NaN            0           0          0   \n",
      "\n",
      "        non_boundary  isWicketDelivery player_out    kind fielders_involved  \\\n",
      "0                  0                 0        NaN     NaN               NaN   \n",
      "1                  0                 0        NaN     NaN               NaN   \n",
      "2                  0                 0        NaN     NaN               NaN   \n",
      "3                  0                 0        NaN     NaN               NaN   \n",
      "4                  0                 0        NaN     NaN               NaN   \n",
      "...              ...               ...        ...     ...               ...   \n",
      "225949             0                 0        NaN     NaN               NaN   \n",
      "225950             0                 0        NaN     NaN               NaN   \n",
      "225951             0                 0        NaN     NaN               NaN   \n",
      "225952             0                 0        NaN     NaN               NaN   \n",
      "225953             0                 1   SB Joshi  caught       BB McCullum   \n",
      "\n",
      "                        BattingTeam  \n",
      "0                  Rajasthan Royals  \n",
      "1                  Rajasthan Royals  \n",
      "2                  Rajasthan Royals  \n",
      "3                  Rajasthan Royals  \n",
      "4                  Rajasthan Royals  \n",
      "...                             ...  \n",
      "225949  Royal Challengers Bangalore  \n",
      "225950  Royal Challengers Bangalore  \n",
      "225951  Royal Challengers Bangalore  \n",
      "225952  Royal Challengers Bangalore  \n",
      "225953  Royal Challengers Bangalore  \n",
      "\n",
      "[225954 rows x 17 columns]>\n"
     ]
    }
   ],
   "source": [
    "df = pd.read_csv('IPL.csv')\n",
    "print(df.head)"
   ]
  },
  {
   "cell_type": "code",
   "execution_count": 9,
   "id": "4876656c",
   "metadata": {},
   "outputs": [
    {
     "data": {
      "text/plain": [
       "<bound method DataFrame.info of              ID  innings  overs  ballnumber       batter          bowler  \\\n",
       "0       1312200        1      0           1  YBK Jaiswal  Mohammed Shami   \n",
       "1       1312200        1      0           2  YBK Jaiswal  Mohammed Shami   \n",
       "2       1312200        1      0           3   JC Buttler  Mohammed Shami   \n",
       "3       1312200        1      0           4  YBK Jaiswal  Mohammed Shami   \n",
       "4       1312200        1      0           5  YBK Jaiswal  Mohammed Shami   \n",
       "...         ...      ...    ...         ...          ...             ...   \n",
       "225949   335982        2     14           5      P Kumar        I Sharma   \n",
       "225950   335982        2     14           6     SB Joshi        I Sharma   \n",
       "225951   335982        2     14           7      P Kumar        I Sharma   \n",
       "225952   335982        2     15           1     SB Joshi       LR Shukla   \n",
       "225953   335982        2     15           2     SB Joshi       LR Shukla   \n",
       "\n",
       "        non-striker extra_type  batsman_run  extras_run  total_run  \\\n",
       "0        JC Buttler        NaN            0           0          0   \n",
       "1        JC Buttler    legbyes            0           1          1   \n",
       "2       YBK Jaiswal        NaN            1           0          1   \n",
       "3        JC Buttler        NaN            0           0          0   \n",
       "4        JC Buttler        NaN            0           0          0   \n",
       "...             ...        ...          ...         ...        ...   \n",
       "225949     SB Joshi    legbyes            0           1          1   \n",
       "225950      P Kumar        NaN            1           0          1   \n",
       "225951     SB Joshi        NaN            0           0          0   \n",
       "225952      P Kumar      wides            0           1          1   \n",
       "225953      P Kumar        NaN            0           0          0   \n",
       "\n",
       "        non_boundary  isWicketDelivery player_out    kind fielders_involved  \\\n",
       "0                  0                 0        NaN     NaN               NaN   \n",
       "1                  0                 0        NaN     NaN               NaN   \n",
       "2                  0                 0        NaN     NaN               NaN   \n",
       "3                  0                 0        NaN     NaN               NaN   \n",
       "4                  0                 0        NaN     NaN               NaN   \n",
       "...              ...               ...        ...     ...               ...   \n",
       "225949             0                 0        NaN     NaN               NaN   \n",
       "225950             0                 0        NaN     NaN               NaN   \n",
       "225951             0                 0        NaN     NaN               NaN   \n",
       "225952             0                 0        NaN     NaN               NaN   \n",
       "225953             0                 1   SB Joshi  caught       BB McCullum   \n",
       "\n",
       "                        BattingTeam  \n",
       "0                  Rajasthan Royals  \n",
       "1                  Rajasthan Royals  \n",
       "2                  Rajasthan Royals  \n",
       "3                  Rajasthan Royals  \n",
       "4                  Rajasthan Royals  \n",
       "...                             ...  \n",
       "225949  Royal Challengers Bangalore  \n",
       "225950  Royal Challengers Bangalore  \n",
       "225951  Royal Challengers Bangalore  \n",
       "225952  Royal Challengers Bangalore  \n",
       "225953  Royal Challengers Bangalore  \n",
       "\n",
       "[225954 rows x 17 columns]>"
      ]
     },
     "execution_count": 9,
     "metadata": {},
     "output_type": "execute_result"
    }
   ],
   "source": [
    "df.info"
   ]
  },
  {
   "cell_type": "code",
   "execution_count": 10,
   "id": "daefc552",
   "metadata": {},
   "outputs": [
    {
     "name": "stdout",
     "output_type": "stream",
     "text": [
      "        ID  innings  overs  ballnumber       batter          bowler  \\\n",
      "0  1312200        1      0           1  YBK Jaiswal  Mohammed Shami   \n",
      "1  1312200        1      0           2  YBK Jaiswal  Mohammed Shami   \n",
      "2  1312200        1      0           3   JC Buttler  Mohammed Shami   \n",
      "3  1312200        1      0           4  YBK Jaiswal  Mohammed Shami   \n",
      "4  1312200        1      0           5  YBK Jaiswal  Mohammed Shami   \n",
      "\n",
      "   non-striker extra_type  batsman_run  extras_run  total_run  non_boundary  \\\n",
      "0   JC Buttler        NaN            0           0          0             0   \n",
      "1   JC Buttler    legbyes            0           1          1             0   \n",
      "2  YBK Jaiswal        NaN            1           0          1             0   \n",
      "3   JC Buttler        NaN            0           0          0             0   \n",
      "4   JC Buttler        NaN            0           0          0             0   \n",
      "\n",
      "   isWicketDelivery player_out kind fielders_involved       BattingTeam  \n",
      "0                 0        NaN  NaN               NaN  Rajasthan Royals  \n",
      "1                 0        NaN  NaN               NaN  Rajasthan Royals  \n",
      "2                 0        NaN  NaN               NaN  Rajasthan Royals  \n",
      "3                 0        NaN  NaN               NaN  Rajasthan Royals  \n",
      "4                 0        NaN  NaN               NaN  Rajasthan Royals  \n"
     ]
    }
   ],
   "source": [
    "df = pd.read_csv(\"IPL.csv\")\n",
    "print(df.head())"
   ]
  },
  {
   "cell_type": "code",
   "execution_count": 11,
   "id": "3b170334",
   "metadata": {},
   "outputs": [
    {
     "name": "stdout",
     "output_type": "stream",
     "text": [
      "ID                    int64\n",
      "innings               int64\n",
      "overs                 int64\n",
      "ballnumber            int64\n",
      "batter               object\n",
      "bowler               object\n",
      "non-striker          object\n",
      "extra_type           object\n",
      "batsman_run           int64\n",
      "extras_run            int64\n",
      "total_run             int64\n",
      "non_boundary          int64\n",
      "isWicketDelivery      int64\n",
      "player_out           object\n",
      "kind                 object\n",
      "fielders_involved    object\n",
      "BattingTeam          object\n",
      "dtype: object\n"
     ]
    }
   ],
   "source": [
    "print(df.dtypes)"
   ]
  },
  {
   "cell_type": "code",
   "execution_count": 12,
   "id": "a20fc097",
   "metadata": {},
   "outputs": [
    {
     "name": "stdout",
     "output_type": "stream",
     "text": [
      "Missing values in each column:\n",
      "ID                        0\n",
      "innings                   0\n",
      "overs                     0\n",
      "ballnumber                0\n",
      "batter                    0\n",
      "bowler                    0\n",
      "non-striker               0\n",
      "extra_type           213905\n",
      "batsman_run               0\n",
      "extras_run                0\n",
      "total_run                 0\n",
      "non_boundary              0\n",
      "isWicketDelivery          0\n",
      "player_out           214803\n",
      "kind                 214803\n",
      "fielders_involved    217966\n",
      "BattingTeam               0\n",
      "dtype: int64\n"
     ]
    }
   ],
   "source": [
    "print(\"Missing values in each column:\")\n",
    "print(df.isnull().sum())"
   ]
  },
  {
   "cell_type": "code",
   "execution_count": 13,
   "id": "3977e126",
   "metadata": {},
   "outputs": [
    {
     "data": {
      "text/plain": [
       "(225954, 17)"
      ]
     },
     "execution_count": 13,
     "metadata": {},
     "output_type": "execute_result"
    }
   ],
   "source": [
    "df.shape"
   ]
  },
  {
   "cell_type": "code",
   "execution_count": null,
   "id": "5aa1dc84",
   "metadata": {},
   "outputs": [],
   "source": []
  }
 ],
 "metadata": {
  "kernelspec": {
   "display_name": "Python 3",
   "language": "python",
   "name": "python3"
  },
  "language_info": {
   "codemirror_mode": {
    "name": "ipython",
    "version": 3
   },
   "file_extension": ".py",
   "mimetype": "text/x-python",
   "name": "python",
   "nbconvert_exporter": "python",
   "pygments_lexer": "ipython3",
   "version": "3.11.0"
  }
 },
 "nbformat": 4,
 "nbformat_minor": 5
}
